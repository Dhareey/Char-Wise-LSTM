{
 "cells": [
  {
   "cell_type": "code",
   "execution_count": 18,
   "metadata": {},
   "outputs": [],
   "source": [
    "import requests\n",
    "from bs4 import BeautifulSoup"
   ]
  },
  {
   "cell_type": "code",
   "execution_count": 19,
   "metadata": {},
   "outputs": [],
   "source": [
    "url = 'https://www.bible.com/bible/911/'\n",
    "point= '.'\n",
    "book = 'phm'.upper()\n",
    "req = requests.get(url+book+point+'1'+point+'YCB')"
   ]
  },
  {
   "cell_type": "code",
   "execution_count": 20,
   "metadata": {},
   "outputs": [],
   "source": [
    "page = BeautifulSoup(req.content, 'lxml')"
   ]
  },
  {
   "cell_type": "code",
   "execution_count": 21,
   "metadata": {},
   "outputs": [],
   "source": [
    "passages = page.find('div', class_='mw6 center pa3 pt4 pb7 mt6')"
   ]
  },
  {
   "cell_type": "code",
   "execution_count": 29,
   "metadata": {},
   "outputs": [],
   "source": [
    "removetext = [verses.get_text() for verses in passages.find_all('span', class_= 'note x')]"
   ]
  },
  {
   "cell_type": "code",
   "execution_count": 30,
   "metadata": {},
   "outputs": [
    {
     "data": {
      "text/plain": [
       "['#    \\n        Ro 1.7.  ',\n",
       " '#    \\n        Ro 1.8.  ',\n",
       " '#Kl 4.9.',\n",
       " '#Ap 12.12,25; 13.13; 15.37-39; Kl 4.10; Ap 19.29; 27.2; Kl 4.10; Kl 4.14; 2Tm 4.10; Kl 4.14; 2Tm 4.11.']"
      ]
     },
     "execution_count": 30,
     "metadata": {},
     "output_type": "execute_result"
    }
   ],
   "source": [
    "removetext"
   ]
  },
  {
   "cell_type": "code",
   "execution_count": 31,
   "metadata": {},
   "outputs": [],
   "source": [
    "passage = passages.get_text().split('Bíbélì Mímọ́ ní Èdè Yorùbá Òde-Òní')[0]"
   ]
  },
  {
   "cell_type": "code",
   "execution_count": 32,
   "metadata": {},
   "outputs": [
    {
     "data": {
      "text/plain": [
       "'\\n\\n\\n1Ìkíni 1Èmi Paulu, ẹni tí a fi sẹ́wọ̀n nítorí pé ó ń wàásù ìhìnrere Jesu Kristi àti Timotiu arákùnrin wa.Sí Filemoni ọ̀rẹ́ wa ọ̀wọ́n àti alábáṣiṣẹ́ wa, 2sí Affia arábìnrin wa, sí Arkippu ẹni tó jẹ́ jagunjagun fún àgbélébùú náà àti sí ìjọ àwọn Kristiani tí ó ń pàdé nínú ilé rẹ: 3 #    \\n        Ro 1.7.  Oore-Ọ̀fẹ́ fún un yín àti àlàáfíà láti ọ̀dọ̀ Ọlọ́run Baba wa àti Jesu Kristi.Ọpẹ́ àti Àdúrà 4 #    \\n        Ro 1.8.  Èmi máa ń dúpẹ́ lọ́wọ́ Ọlọ́run nígbà tí mo bá rántí rẹ nínú àdúrà mi, 5nítorí mo ń gbọ́ nípa ìgbàgbọ́ rẹ nínú Jesu Olúwa àti nípa ìfẹ́ rẹ sí àwọn ènìyàn mímọ́. 6Èmi ń gbàdúrà pé, bí ìwọ ti ń ṣe alábápín nínú ìgbàgbọ́ rẹ pẹ̀lú àwọn ẹlòmíràn, pé kí ìgbàgbọ́ náà lè mú ọkàn wọn dúró gbọingbọin, gẹ́gẹ́ bí wọn ti rí àwọn ọ̀rọ̀ ohun rere tí ó ń bẹ nínú ayé rẹ, èyí tí ó ti ọ̀dọ̀ Kristi wá. 7Ìfẹ́ rẹ ti fún mi ní ayọ̀ púpọ̀ àti ìgboyà, nítorí ìwọ, arákùnrin ti tu ọkàn àwọn ènìyàn mímọ́ lára.Paulu bẹ̀bẹ̀ fún Onesimu 8Nítorí náà, bí ó tilẹ̀ jẹ́ pé nínú Kristi mo ní ìgboyà púpọ̀ láti pàṣẹ ohun ti ó yẹ kí ó ṣe fún ọ, 9Síbẹ̀ nítorí ìfẹ́ èmí kúkú bẹ̀ ọ́. Èmi gẹ́gẹ́ bí Paulu, arúgbó, àti nísinsin yìí òǹdè Jesu Kristi. 10#Kl 4.9.Èmí bẹ̀ ọ́ nítorí ọmọ mi Onesimu, ẹni tí ó di ọmọ nígbà tí mo wà nínú ìdè. 11Nígbà kan rí, kò wúlò fún ọ, ṣùgbọ́n ní báyìí, ó ti wúlò fún ọ àti fún èmi pàápàá. 12Èmi rán an nísinsin yìí, àní ẹni ọkàn mi padà sí ọ̀dọ̀ rẹ. 13Èmi ìbá fẹ́ láti dá a dúró sọ́dọ̀ mi níhìn-ín, kí ó ba à dípò rẹ láti máa ràn mí lọ́wọ́ nígbà tí mo wà nínú ìdè nítorí ìhìnrere 14ṣùgbọ́n èmi kò fẹ́ ṣe bẹ́ẹ̀ rárá láìgba ìyọ̀ǹda ní ọwọ́ rẹ, kí oore tí ìwọ bá ṣe má ba à jẹ́ ìfipámúniṣe bí kò ṣe ìfìfẹ́ṣe. 15Bóyá ìdí rẹ̀ tí òun fi yẹra kúrò lọ́dọ̀ rẹ fún ìgbà díẹ̀ ni pé kí ìwọ kí ó lè gbà á padà sọ́dọ̀ títí láé; 16Kì í wá ṣe bí ẹrú mọ́, ṣùgbọ́n bí ẹni ti ó sàn ju ẹrú lọ, gẹ́gẹ́ bí arákùnrin. Ó ṣọ̀wọ́n fún mi jọjọ, ṣùgbọ́n ó ṣọ̀wọ́n fún ọ jù nípa ti ara àti gẹ́gẹ́ bí arákùnrin nínú Olúwa. 17Nítorí náà bí ìwọ bá kà mí sí ẹlẹgbẹ́ rẹ̀, tẹ́wọ́ gbà á bí ìwọ yóò ti tẹ́wọ́ gbà mí. 18Bí ó bá ti ṣe ọ́ ní ibi kan tàbí jẹ ọ́ ní gbèsè ohun kan, kà á sí mi lọ́rùn. 19Èmi Paulu, ni mo fi ọwọ́ ara mi kọ ìwé yìí; èmi yóò san án padà láì tilẹ̀ ní í sọ nípa pé ìwọ pàápàá jẹ mi ní gbèsè ara rẹ. 20Èmi ń fẹ́, arákùnrin, pé kí èmi kí ó lè ni àǹfààní kan láti ọ̀dọ̀ rẹ nínú Olúwa; fi ayọ̀ rẹ kún ọkàn mi nínú Kristi. 21Ìgbẹ́kẹ̀lé ti mo ní pé ìwọ yóò gbọ́rọ̀, ni mo fi kọ ìwé yìí ránṣẹ́ sí ọ. Mo mọ̀ dájú pé ìwọ yóò ṣe ju bí mo ti béèrè lọ. 22Ó ku ohun kan: Ṣe ìtọ́jú iyàrá àlejò rẹ sílẹ̀ fún mi, nítorí mo ní ìgbàgbọ́ pé a óò tú mi sílẹ̀ fún yín ní ìdáhùn sí àdúrà yín. 23Epafira, òǹdè ẹlẹgbẹ́ mi nínú Kristi Jesu kí ọ. 24#Ap 12.12,25; 13.13; 15.37-39; Kl 4.10; Ap 19.29; 27.2; Kl 4.10; Kl 4.14; 2Tm 4.10; Kl 4.14; 2Tm 4.11.Marku kí ọ pẹ̀lú Aristarku, Dema àti Luku, àwọn alábáṣiṣẹ́ mi. 25Kí oore-ọ̀fẹ́ Jesu Kristi Olúwa wa wà pẹ̀lú ẹ̀mí yín.\\n\\n\\n'"
      ]
     },
     "execution_count": 32,
     "metadata": {},
     "output_type": "execute_result"
    }
   ],
   "source": [
    "passage"
   ]
  },
  {
   "cell_type": "code",
   "execution_count": 25,
   "metadata": {},
   "outputs": [],
   "source": [
    "testtext= 'about time that i am into this i am'"
   ]
  },
  {
   "cell_type": "code",
   "execution_count": 28,
   "metadata": {},
   "outputs": [
    {
     "data": {
      "text/plain": [
       "'bout time that i am into this'"
      ]
     },
     "execution_count": 28,
     "metadata": {},
     "output_type": "execute_result"
    }
   ],
   "source": [
    "testtext.strip('i am')"
   ]
  }
 ],
 "metadata": {
  "kernelspec": {
   "display_name": "Python 3",
   "language": "python",
   "name": "python3"
  },
  "language_info": {
   "codemirror_mode": {
    "name": "ipython",
    "version": 3
   },
   "file_extension": ".py",
   "mimetype": "text/x-python",
   "name": "python",
   "nbconvert_exporter": "python",
   "pygments_lexer": "ipython3",
   "version": "3.7.3"
  }
 },
 "nbformat": 4,
 "nbformat_minor": 2
}
